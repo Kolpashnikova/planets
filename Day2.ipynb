{
 "cells": [
  {
   "cell_type": "markdown",
   "metadata": {},
   "source": [
    "# Review of Loops"
   ]
  },
  {
   "cell_type": "markdown",
   "metadata": {},
   "source": [
    "Let's sum some numbers!"
   ]
  },
  {
   "cell_type": "code",
   "execution_count": 6,
   "metadata": {
    "collapsed": true
   },
   "outputs": [],
   "source": [
    "list =[1,3,5,6,7,8]"
   ]
  },
  {
   "cell_type": "code",
   "execution_count": 9,
   "metadata": {
    "collapsed": false
   },
   "outputs": [
    {
     "name": "stdout",
     "output_type": "stream",
     "text": [
      "30\n"
     ]
    }
   ],
   "source": [
    "sum=0\n",
    "for a in list:\n",
    "    sum=sum + a\n",
    "print(sum)"
   ]
  },
  {
   "cell_type": "code",
   "execution_count": 11,
   "metadata": {
    "collapsed": false
   },
   "outputs": [
    {
     "name": "stdout",
     "output_type": "stream",
     "text": [
      "the sum of these numbers is: 30\n"
     ]
    }
   ],
   "source": [
    "sum=0\n",
    "for a in list:\n",
    "    sum+=a\n",
    "print('the sum of these numbers is:', sum)"
   ]
  },
  {
   "cell_type": "code",
   "execution_count": 12,
   "metadata": {
    "collapsed": false
   },
   "outputs": [
    {
     "name": "stdout",
     "output_type": "stream",
     "text": [
      "Help on built-in function print in module builtins:\n",
      "\n",
      "print(...)\n",
      "    print(value, ..., sep=' ', end='\\n', file=sys.stdout, flush=False)\n",
      "    \n",
      "    Prints the values to a stream, or to sys.stdout by default.\n",
      "    Optional keyword arguments:\n",
      "    file:  a file-like object (stream); defaults to the current sys.stdout.\n",
      "    sep:   string inserted between values, default a space.\n",
      "    end:   string appended after the last value, default a newline.\n",
      "    flush: whether to forcibly flush the stream.\n",
      "\n"
     ]
    }
   ],
   "source": [
    "help(print)"
   ]
  },
  {
   "cell_type": "markdown",
   "metadata": {},
   "source": [
    "# Control Flow/ Making Choices"
   ]
  },
  {
   "cell_type": "code",
   "execution_count": 17,
   "metadata": {
    "collapsed": true
   },
   "outputs": [],
   "source": [
    "num = 101"
   ]
  },
  {
   "cell_type": "code",
   "execution_count": 18,
   "metadata": {
    "collapsed": false
   },
   "outputs": [
    {
     "name": "stdout",
     "output_type": "stream",
     "text": [
      "Greater than 100!\n",
      "Final text\n"
     ]
    }
   ],
   "source": [
    "if num > 100:\n",
    "    print('Greater than 100!')\n",
    "else: \n",
    "    print('Not greater!')\n",
    "print('Final text')"
   ]
  },
  {
   "cell_type": "markdown",
   "metadata": {},
   "source": [
    "## Determining if greater, less than. equal to 0"
   ]
  },
  {
   "cell_type": "code",
   "execution_count": 24,
   "metadata": {
    "collapsed": false
   },
   "outputs": [
    {
     "name": "stdout",
     "output_type": "stream",
     "text": [
      "Greater!\n"
     ]
    }
   ],
   "source": [
    "num = 23\n",
    "if num > 0:\n",
    "    print('Greater!')\n",
    "elif num ==0:\n",
    "     print('Equal to zero')\n",
    "else:\n",
    "    print('Not greater!')\n",
    "   "
   ]
  },
  {
   "cell_type": "code",
   "execution_count": 27,
   "metadata": {
    "collapsed": false
   },
   "outputs": [
    {
     "name": "stdout",
     "output_type": "stream",
     "text": [
      "Not equal to\n"
     ]
    }
   ],
   "source": [
    "if num != 0:\n",
    "    print('Not equal to')"
   ]
  },
  {
   "cell_type": "code",
   "execution_count": 32,
   "metadata": {
    "collapsed": false
   },
   "outputs": [
    {
     "name": "stdout",
     "output_type": "stream",
     "text": [
      "It meets at  least one condition\n"
     ]
    }
   ],
   "source": [
    "num =13\n",
    "if (num > 6) and (num < 12):\n",
    "    print('The number is likely 7!')\n",
    "if (num > 6) or (num < 12):\n",
    "    print('It meets at  least one condition')"
   ]
  },
  {
   "cell_type": "code",
   "execution_count": 33,
   "metadata": {
    "collapsed": false
   },
   "outputs": [
    {
     "name": "stdout",
     "output_type": "stream",
     "text": [
      "It meets at  least one condition\n"
     ]
    }
   ],
   "source": [
    "num =13\n",
    "if (num > 6) or (num < 12):\n",
    "    print('It meets at  least one condition')"
   ]
  },
  {
   "cell_type": "markdown",
   "metadata": {},
   "source": [
    "## Let's get back to our data"
   ]
  },
  {
   "cell_type": "code",
   "execution_count": 34,
   "metadata": {
    "collapsed": true
   },
   "outputs": [],
   "source": [
    "import numpy as np"
   ]
  },
  {
   "cell_type": "code",
   "execution_count": 35,
   "metadata": {
    "collapsed": true
   },
   "outputs": [],
   "source": [
    "data = np.loadtxt(fname='inflammation-01.csv', delimiter=',')"
   ]
  },
  {
   "cell_type": "code",
   "execution_count": 37,
   "metadata": {
    "collapsed": false
   },
   "outputs": [
    {
     "name": "stdout",
     "output_type": "stream",
     "text": [
      "[[ 0.  0.  1. ...,  3.  0.  0.]\n",
      " [ 0.  1.  2. ...,  1.  0.  1.]\n",
      " [ 0.  1.  1. ...,  2.  1.  1.]\n",
      " ..., \n",
      " [ 0.  1.  1. ...,  1.  1.  1.]\n",
      " [ 0.  0.  0. ...,  0.  2.  0.]\n",
      " [ 0.  0.  1. ...,  1.  1.  0.]]\n"
     ]
    }
   ],
   "source": [
    "print(data)"
   ]
  },
  {
   "cell_type": "code",
   "execution_count": 45,
   "metadata": {
    "collapsed": false
   },
   "outputs": [
    {
     "name": "stdout",
     "output_type": "stream",
     "text": [
      "Everything is fine!\n"
     ]
    }
   ],
   "source": [
    "if data.max(axis=0)[0]==0 and data.max(axis=0)[20]==19:\n",
    "    print('suspicious looking maxima!')\n",
    "elif data.min(axis=0).sum()==0:\n",
    "    print('Minima add up to zero')\n",
    "else: \n",
    "    print('Everything is fine!')"
   ]
  },
  {
   "cell_type": "code",
   "execution_count": 44,
   "metadata": {
    "collapsed": false
   },
   "outputs": [
    {
     "name": "stdout",
     "output_type": "stream",
     "text": [
      "Minima add up to zero\n"
     ]
    }
   ],
   "source": [
    "data3 = np.loadtxt(fname='inflammation-03.csv', delimiter=',')\n",
    "if data3.max(axis=0)[0]==0 and data3.max(axis=0)[20]==19:\n",
    "    print('suspicious looking maxima!')\n",
    "elif data3.min(axis=0).sum()==0:\n",
    "    print('Minima add up to zero')\n",
    "else: \n",
    "    print('Everything is fine!')"
   ]
  },
  {
   "cell_type": "markdown",
   "metadata": {},
   "source": [
    "## Understanding control flow"
   ]
  },
  {
   "cell_type": "code",
   "execution_count": 47,
   "metadata": {
    "collapsed": false
   },
   "outputs": [
    {
     "name": "stdout",
     "output_type": "stream",
     "text": [
      "B\n"
     ]
    }
   ],
   "source": [
    "if 4 > 5:\n",
    "    print('A')\n",
    "elif 4 < 5:\n",
    "    print('B')\n",
    "elif 4 < 5:\n",
    "    print('C')"
   ]
  },
  {
   "cell_type": "code",
   "execution_count": 48,
   "metadata": {
    "collapsed": false
   },
   "outputs": [
    {
     "name": "stdout",
     "output_type": "stream",
     "text": [
      "B\n",
      "C\n"
     ]
    }
   ],
   "source": [
    "if 4 > 5:\n",
    "    print('A')\n",
    "if 4 < 5:\n",
    "    print('B')\n",
    "if 4 < 5:\n",
    "    print('C')"
   ]
  },
  {
   "cell_type": "code",
   "execution_count": 50,
   "metadata": {
    "collapsed": true
   },
   "outputs": [],
   "source": [
    "set1 = [1.456, 3.45]\n",
    "set2  = [2345,2354]\n",
    "\n",
    "# Write some conditions that print TRUE if the \n",
    "# Second value in a set is within 10% of the first value in the set\n",
    "# Post on Etherpad"
   ]
  },
  {
   "cell_type": "code",
   "execution_count": 51,
   "metadata": {
    "collapsed": false
   },
   "outputs": [
    {
     "name": "stdout",
     "output_type": "stream",
     "text": [
      "[[1.456, 3.45], [2345, 2354]]\n"
     ]
    }
   ],
   "source": [
    "a = [set1,set2]\n",
    "print(a)"
   ]
  },
  {
   "cell_type": "code",
   "execution_count": 63,
   "metadata": {
    "collapsed": false,
    "scrolled": true
   },
   "outputs": [
    {
     "name": "stdout",
     "output_type": "stream",
     "text": [
      "FALSE\n",
      "TRUE\n"
     ]
    }
   ],
   "source": [
    "set1 = [1.456, 3.45]\n",
    "set2  = [2345,2354]\n",
    "a = [set1,set2]\n",
    "for b in a:\n",
    "    if b[1]<=1.1*b[0]: ## only does the upper bound\n",
    "        print('TRUE')\n",
    "    else:\n",
    "        print('FALSE')"
   ]
  },
  {
   "cell_type": "code",
   "execution_count": 68,
   "metadata": {
    "collapsed": false
   },
   "outputs": [
    {
     "name": "stdout",
     "output_type": "stream",
     "text": [
      "for the set: [1.456, 3.45] it is:\n",
      "FALSE\n",
      "for the set: [2345, 2354] it is:\n",
      "TRUE\n"
     ]
    }
   ],
   "source": [
    "set1 = [1.456, 3.45]\n",
    "set2  = [2345,2354]\n",
    "a = [set1,set2]\n",
    "for b in a:\n",
    "    if b[1]<=1.1*b[0] and b[1]>=0.9*b[0]: ## here you also add the lower bound and the upper bound\n",
    "        print('for the set:', b, 'it is:')\n",
    "        print('TRUE')\n",
    "    else:\n",
    "        print('for the set:', b, 'it is:')\n",
    "        print('FALSE')"
   ]
  },
  {
   "cell_type": "code",
   "execution_count": 74,
   "metadata": {
    "collapsed": false
   },
   "outputs": [
    {
     "name": "stdout",
     "output_type": "stream",
     "text": [
      "[2345, 2354]\n",
      "True\n"
     ]
    }
   ],
   "source": [
    "for a in [set1,set2]:\n",
    "    if a[0]*.9 <= a[1] <= a[0]*1.1:\n",
    "        print(a)\n",
    "        print('True')"
   ]
  },
  {
   "cell_type": "markdown",
   "metadata": {},
   "source": [
    "# Converting Temperatures using functions"
   ]
  },
  {
   "cell_type": "code",
   "execution_count": 75,
   "metadata": {
    "collapsed": true
   },
   "outputs": [],
   "source": [
    "def fahr_to_kelvin(temp):\n",
    "    return ((temp - 32)*(5/9)+273.15)"
   ]
  },
  {
   "cell_type": "code",
   "execution_count": 76,
   "metadata": {
    "collapsed": true
   },
   "outputs": [],
   "source": [
    "temp1 = 300\n",
    "temp2 =45"
   ]
  },
  {
   "cell_type": "code",
   "execution_count": 77,
   "metadata": {
    "collapsed": false
   },
   "outputs": [
    {
     "name": "stdout",
     "output_type": "stream",
     "text": [
      "422.0388888888889\n"
     ]
    }
   ],
   "source": [
    "print(fahr_to_kelvin(temp1))"
   ]
  },
  {
   "cell_type": "code",
   "execution_count": 81,
   "metadata": {
    "collapsed": false
   },
   "outputs": [
    {
     "name": "stdout",
     "output_type": "stream",
     "text": [
      "the freezing point of water is: 273.15 Kelvin\n",
      "the boiling point of water is: 373.15 Kelvin\n"
     ]
    }
   ],
   "source": [
    "print('the freezing point of water is:', fahr_to_kelvin(32), 'Kelvin')\n",
    "print('the boiling point of water is:', fahr_to_kelvin(212), 'Kelvin')"
   ]
  },
  {
   "cell_type": "code",
   "execution_count": 82,
   "metadata": {
    "collapsed": false
   },
   "outputs": [
    {
     "name": "stdout",
     "output_type": "stream",
     "text": [
      "Absolute zero is Celsius is -273.15 degrees celsius\n"
     ]
    }
   ],
   "source": [
    "## Function to convert Kelvin to Celsius\n",
    "\n",
    "def kelvin_to_celsius(temp_k):\n",
    "    return temp_k - 273.15\n",
    "\n",
    "print('Absolute zero is Celsius is', kelvin_to_celsius(0), 'degrees celsius')"
   ]
  },
  {
   "cell_type": "code",
   "execution_count": 89,
   "metadata": {
    "collapsed": false
   },
   "outputs": [
    {
     "name": "stdout",
     "output_type": "stream",
     "text": [
      "freezing point of water in Celsius 0.0\n"
     ]
    }
   ],
   "source": [
    "def fahr_to_celsius(temp_f):\n",
    "    return kelvin_to_celsius(fahr_to_kelvin(temp_f))\n",
    "\n",
    "print('freezing point of water in Celsius', fahr_to_celsius(32))"
   ]
  },
  {
   "cell_type": "code",
   "execution_count": 87,
   "metadata": {
    "collapsed": false
   },
   "outputs": [
    {
     "name": "stdout",
     "output_type": "stream",
     "text": [
      "freezing point of water in Celsius 0.0\n"
     ]
    }
   ],
   "source": [
    "def fahr_to_celsius(temp_f):\n",
    "    temp_k = fahr_to_kelvin(temp_f)\n",
    "    result = kelvin_to_celsius(temp_k)\n",
    "    return result\n",
    "\n",
    "print('freezing point of water in Celsius', fahr_to_celsius(32))"
   ]
  },
  {
   "cell_type": "code",
   "execution_count": null,
   "metadata": {
    "collapsed": true
   },
   "outputs": [],
   "source": []
  }
 ],
 "metadata": {
  "kernelspec": {
   "display_name": "Python 3",
   "language": "python",
   "name": "python3"
  },
  "language_info": {
   "codemirror_mode": {
    "name": "ipython",
    "version": 3
   },
   "file_extension": ".py",
   "mimetype": "text/x-python",
   "name": "python",
   "nbconvert_exporter": "python",
   "pygments_lexer": "ipython3",
   "version": "3.5.1"
  }
 },
 "nbformat": 4,
 "nbformat_minor": 0
}
